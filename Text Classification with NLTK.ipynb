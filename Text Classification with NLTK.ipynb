{
 "cells": [
  {
   "cell_type": "markdown",
   "metadata": {},
   "source": [
    "# Text Classification with NLTK"
   ]
  },
  {
   "cell_type": "markdown",
   "metadata": {},
   "source": [
    "## 1. Reading datasets"
   ]
  },
  {
   "cell_type": "code",
   "execution_count": 1,
   "metadata": {},
   "outputs": [],
   "source": [
    "import os\n",
    "import codecs\n",
    "# Creating a function to read the files.\n",
    "def read_in(folder):\n",
    "    # Creating a list containing the names of the files in the directory\n",
    "    files = os.listdir(folder)\n",
    "    a_list = []\n",
    "    for a_file in files:\n",
    "        # Skiping hidden files\n",
    "        if not a_file.startswith(\".\"):\n",
    "            # Reading the contents of each file.\n",
    "            f = codecs.open(folder + a_file, \"r\", encoding = \"ISO-8859-1\", errors=\"ignore\")\n",
    "            a_list.append(f.read())\n",
    "            f.close()\n",
    "    return a_list"
   ]
  },
  {
   "cell_type": "markdown",
   "metadata": {},
   "source": [
    "Let's read the datasets using this function."
   ]
  },
  {
   "cell_type": "code",
   "execution_count": 2,
   "metadata": {},
   "outputs": [
    {
     "name": "stdout",
     "output_type": "stream",
     "text": [
      "A number of mails that includes spam: 1500\n",
      "Subject: re: rdd, the auxiliary iturean\n",
      "Free cable@ tv\n",
      "Dabble bam servomechanism ferret canopy bookcase befog seductive elapse ballard daphne acrylate deride decadent desolate else sequestration condition ligament ornately yaquI giblet emphysematous woodland lie segovia almighty coffey shut china clubroom diagnostician\n",
      "Cheer leadsman abominate cambric oligarchy mania woodyard quake tetrachloride contiguous welsh depressive synaptic trauma cloister banks canadian byroad alexander gnaw annette charlie\n",
      "\n",
      "-----------------------\n",
      "\n",
      "A number of mails that includes ham: 3672\n",
      "Subject: entex transistion\n",
      "The purpose of the email is to recap the kickoff meeting held on yesterday\n",
      "With members from commercial and volume managment concernig the entex account:\n",
      "Effective january 2000, thu nguyen (x 37159) in the volume managment group,\n",
      "Will take over the responsibility of allocating the entex contracts. Howard\n",
      "And thu began some training this month and will continue to transition the\n",
      "Account over the next few months. Entex will be thu' s primary account\n",
      "Especially during these first few months as she learns the allocations\n",
      "Process and the contracts.\n",
      "Howard will continue with his lead responsibilites within the group and be\n",
      "Available for questions or as a backup, if necessary (thanks howard for all\n",
      "Your hard work on the account this year!).\n",
      "In the initial phases of this transistion, I would like to organize an entex\n",
      "\" account\" team. The team (members from front office to back office) would\n",
      "Meet at some point in the month to discuss any issues relating to the\n",
      "Scheduling, allocations, settlements, contracts, deals, etc. This hopefully\n",
      "Will give each of you a chance to not only identify and resolve issues before\n",
      "The finalization process, but to learn from each other relative to your\n",
      "Respective areas and allow the newcomers to get up to speed on the account as\n",
      "Well. I would encourage everyone to attend these meetings initially as i\n",
      "Believe this is a critical part to the success of the entex account.\n",
      "I will have my assistant to coordinate the initial meeting for early 1/2000.\n",
      "If anyone has any questions or concerns, please feel free to call me or stop\n",
      "By. Thanks in advance for everyone' s cooperation...........\n",
      "Julie - please add thu to the confirmations distributions list\n"
     ]
    }
   ],
   "source": [
    "spam_list = read_in(\"enron1/spam/\")\n",
    "print(f\"A number of mails that includes spam: {len(spam_list)}\")\n",
    "print(spam_list[10])\n",
    "print(\"-----------------------\\n\")\n",
    "ham_list = read_in(\"enron1/ham/\")\n",
    "print(f\"A number of mails that includes ham: {len(ham_list)}\")\n",
    "print(ham_list[10])"
   ]
  },
  {
   "cell_type": "markdown",
   "metadata": {},
   "source": [
    "As you can see this function returns 1500 for `enron1/spam` and 3672 for `enron1/ham`.  \n",
    "\n",
    "Let's now combine the data into a single structure and shuffle them."
   ]
  },
  {
   "cell_type": "code",
   "execution_count": 3,
   "metadata": {},
   "outputs": [
    {
     "name": "stdout",
     "output_type": "stream",
     "text": [
      "Dataset size = 5172 emails\n"
     ]
    }
   ],
   "source": [
    "# Use random module to shuffle.\n",
    "import random\n",
    "# Utilize list comprehensions to create the all_emails list.\n",
    "all_emails = [(email_content, \"spam\") for email_content in spam_list]\n",
    "all_emails += [(email_content, \"ham\") for email_content in ham_list]\n",
    "# fixing randomness\n",
    "random.seed(42)\n",
    "# Shuffling\n",
    "random.shuffle(all_emails)\n",
    "print (f\"Dataset size = {str(len(all_emails))} emails\")"
   ]
  },
  {
   "cell_type": "markdown",
   "metadata": {},
   "source": [
    "Let's take a look at the first three rows."
   ]
  },
  {
   "cell_type": "code",
   "execution_count": 4,
   "metadata": {},
   "outputs": [
    {
     "data": {
      "text/plain": [
       "[('Subject: bloodline, ahead of the street microcap alert\\r\\nWhen living with sheriff is obsequious, blood clot beyond deficit reach an understanding with toward blood clot. [3\\r\\n',\n",
       "  'spam'),\n",
       " ('Subject: well heads\\r\\nPhillips has changed there nom at meter 6673. Vance had 119 in his file but\\r\\nPhillips sent in a nom today for 948. So far it has flowed for april\\r\\nBetween 1100 and 841.\\r\\nPrize has some changes.\\r\\nMeter from\\r\\nTo march range.\\r\\n4028 1113\\r\\n717 1137 to 887\\r\\n5579 2733\\r\\n2381 2800 to 2578\\r\\n5767 115\\r\\n150 140 to 103\\r\\n6191 249\\r\\n154 253 to 217\\r\\n6675 120\\r\\n239 78 to 156\\r\\n9604 109\\r\\n32 38 to 63\\r\\n4965 149\\r\\n180 71 to 288\\r\\n5121 1163\\r\\n1135 303 to 703\\r\\nVintage\\r\\n989603 0\\r\\n330 no mom in april, nomed 270\\r\\nIn march.',\n",
       "  'ham')]"
      ]
     },
     "execution_count": 4,
     "metadata": {},
     "output_type": "execute_result"
    }
   ],
   "source": [
    "all_emails[:2]"
   ]
  },
  {
   "cell_type": "markdown",
   "metadata": {},
   "source": [
    "## 2. Split the text into words"
   ]
  },
  {
   "cell_type": "markdown",
   "metadata": {},
   "source": [
    "Let's use NLTK’s tokenizer. It gets running text as input and returns a list of words based on a number of customized regular expressions."
   ]
  },
  {
   "cell_type": "code",
   "execution_count": 5,
   "metadata": {},
   "outputs": [],
   "source": [
    "import nltk\n",
    "from nltk import word_tokenize\n",
    "\n",
    "# Creating a function to tokenize.\n",
    "def get_features(text): \n",
    "    features = {}\n",
    "    word_list = [word for word in word_tokenize(text.lower())]\n",
    "    for word in word_list:\n",
    "        features[word] = True\n",
    "    return features"
   ]
  },
  {
   "cell_type": "code",
   "execution_count": 6,
   "metadata": {},
   "outputs": [
    {
     "name": "stdout",
     "output_type": "stream",
     "text": [
      "{'i': True, 'am': True, 'living': True, 'in': True, 'u.s.a': True, '!': True}\n"
     ]
    }
   ],
   "source": [
    "print(get_features(\"I am living in U.S.A!\"))"
   ]
  },
  {
   "cell_type": "markdown",
   "metadata": {},
   "source": [
    "## 3. Extract and normalize the features"
   ]
  },
  {
   "cell_type": "code",
   "execution_count": 7,
   "metadata": {},
   "outputs": [],
   "source": [
    "# Tokenizing our dataset.\n",
    "all_features = [(get_features(email), label) for (email, label) in all_emails]"
   ]
  },
  {
   "cell_type": "code",
   "execution_count": 8,
   "metadata": {
    "scrolled": false
   },
   "outputs": [
    {
     "name": "stdout",
     "output_type": "stream",
     "text": [
      "5172\n",
      "27\n",
      "39\n"
     ]
    }
   ],
   "source": [
    "print(len(all_features))\n",
    "print(len(all_features[0][0]))\n",
    "print(len(all_features[10][0]))"
   ]
  },
  {
   "cell_type": "markdown",
   "metadata": {},
   "source": [
    "## 4. Train the classifier"
   ]
  },
  {
   "cell_type": "markdown",
   "metadata": {},
   "source": [
    "Naïve Bayes is a probabilistic classifier, which means that it makes the class prediction based on the estimate of which outcome is most likely (i.e., it assesses the probability of an email being spam and compares it with the probability of it being ham), and then selects the outcome that is most probable between the two."
   ]
  },
  {
   "cell_type": "code",
   "execution_count": 9,
   "metadata": {},
   "outputs": [
    {
     "name": "stdout",
     "output_type": "stream",
     "text": [
      "Training set size = 4137 emails\n",
      "Test set size = 1035 emails\n"
     ]
    }
   ],
   "source": [
    "from nltk import NaiveBayesClassifier, classify\n",
    "\n",
    "def train(features, proportion):\n",
    "    train_size = int(len(features) * proportion)\n",
    "    # initialise the training and test sets\n",
    "    train_set, test_set = features[:train_size], features[train_size:]\n",
    "    print (f\"Training set size = {str(len(train_set))} emails\")\n",
    "    print (f\"Test set size = {str(len(test_set))} emails\")\n",
    "    # train the classifier\n",
    "    classifier = NaiveBayesClassifier.train(train_set)\n",
    "    return train_set, test_set, classifier\n",
    "\n",
    "train_set, test_set, classifier = train(all_features, 0.8)"
   ]
  },
  {
   "cell_type": "markdown",
   "metadata": {},
   "source": [
    " ## 5. Evaluate your classifier"
   ]
  },
  {
   "cell_type": "code",
   "execution_count": 10,
   "metadata": {},
   "outputs": [
    {
     "name": "stdout",
     "output_type": "stream",
     "text": [
      "Accuracy on the training set = 0.961082910321489\n",
      "Accuracy on the test set = 0.9420289855072463\n",
      "Most Informative Features\n",
      "               forwarded = True              ham : spam   =    198.3 : 1.0\n",
      "                    2004 = True             spam : ham    =    143.8 : 1.0\n",
      "                     nom = True              ham : spam   =    126.0 : 1.0\n",
      "            prescription = True             spam : ham    =    122.9 : 1.0\n",
      "                    pain = True             spam : ham    =     98.8 : 1.0\n",
      "                  health = True             spam : ham    =     82.7 : 1.0\n",
      "                     ect = True              ham : spam   =     76.8 : 1.0\n",
      "                    2001 = True              ham : spam   =     75.8 : 1.0\n",
      "                featured = True             spam : ham    =     74.7 : 1.0\n",
      "              nomination = True              ham : spam   =     72.1 : 1.0\n",
      "             medications = True             spam : ham    =     69.9 : 1.0\n",
      "                  differ = True             spam : ham    =     66.7 : 1.0\n",
      "                creative = True             spam : ham    =     65.1 : 1.0\n",
      "             subscribers = True             spam : ham    =     65.1 : 1.0\n",
      "                   risks = True             spam : ham    =     63.4 : 1.0\n",
      "                     pro = True             spam : ham    =     60.2 : 1.0\n",
      "                  shares = True             spam : ham    =     58.6 : 1.0\n",
      "                   cheap = True             spam : ham    =     55.4 : 1.0\n",
      "                       u = True             spam : ham    =     55.4 : 1.0\n",
      "                    2005 = True             spam : ham    =     54.5 : 1.0\n"
     ]
    }
   ],
   "source": [
    "def evaluate(train_set, test_set, classifier):\n",
    "    # check how the classifier performs on the training and test sets\n",
    "    print (f\"Accuracy on the training set = {str(classify.accuracy(classifier, train_set))}\")\n",
    "    print (f\"Accuracy on the test set = {str(classify.accuracy(classifier, test_set))}\")    \n",
    "    # check which words are most informative for the classifier\n",
    "    classifier.show_most_informative_features(20)\n",
    "\n",
    "evaluate(train_set, test_set, classifier)"
   ]
  },
  {
   "cell_type": "markdown",
   "metadata": {},
   "source": [
    "Let's check the contexts of specific words. For example I'm going to explore subscribers."
   ]
  },
  {
   "cell_type": "code",
   "execution_count": 11,
   "metadata": {},
   "outputs": [],
   "source": [
    "from nltk.text import Text\n",
    "def concordance(data_list, search_word):\n",
    "    for email in data_list:\n",
    "        word_list = [word for word in word_tokenize(email.lower())]\n",
    "        text_list = Text(word_list)\n",
    "        if search_word in word_list:\n",
    "            text_list.concordance(search_word)"
   ]
  },
  {
   "cell_type": "code",
   "execution_count": 12,
   "metadata": {},
   "outputs": [
    {
     "name": "stdout",
     "output_type": "stream",
     "text": [
      "subscribers in HAM:\n",
      "\n",
      "---------------------------\n",
      "\n",
      "subscribers in SPAM:\n",
      "Displaying 1 of 1 matches:\n",
      "tment decisions by its readers or subscribers . s 2 p is not a registered broke\n",
      "Displaying 1 of 1 matches:\n",
      "k on the otcbb to our millions of subscribers for substantial profits immediate\n",
      "Displaying 1 of 1 matches:\n",
      "tment decisions by its readers or subscribers . ddsr is not a registered broker\n",
      "Displaying 1 of 1 matches:\n",
      "ity alert advises all readers and subscribers to seek advice from a registered \n",
      "Displaying 3 of 3 matches:\n",
      " through the roof . as one of our subscribers you already probably reaped the b\n",
      "0 % in only 3 days and all of our subscribers turned a quick buck ! don ' t del\n",
      "tment decisions by its readers or subscribers . it is strongly recommended that\n",
      "Displaying 1 of 1 matches:\n",
      "dvice . we advise all readers and subscribers to seek advice from a registered \n",
      "Displaying 1 of 1 matches:\n",
      "dvice . we advise all readers and subscribers to seek advice from a registered \n",
      "Displaying 2 of 2 matches:\n",
      "ck report advises all readers and subscribers to seek advice from a registered \n",
      "stered in - vest - ment advisor . subscribers should not view information herei\n",
      "Displaying 2 of 2 matches:\n",
      "is letter advises all readers and subscribers to seek advice from a registered \n",
      "a registered investment advisor . subscribers should not view information herei\n",
      "Displaying 2 of 2 matches:\n",
      "ewsletter advises all readers and subscribers to seek advice from a registered \n",
      " a registered investment expert . subscribers should not view information herei\n",
      "Displaying 2 of 2 matches:\n",
      "ewsletter advises all readers and subscribers to seek advice from a registered \n",
      " a registered investment expert . subscribers should not view information herei\n",
      "Displaying 1 of 1 matches:\n",
      " a registered investment expert . subscribers should not view information herei\n",
      "Displaying 1 of 1 matches:\n",
      " a registered investment expert . subscribers should not view information herei\n",
      "Displaying 1 of 1 matches:\n",
      "ity alert advises all readers and subscribers to seek advice from a registered \n",
      "Displaying 1 of 1 matches:\n",
      "dvice . we advise all readers and subscribers to seek advice from a registered \n",
      "Displaying 1 of 1 matches:\n",
      " a registered investment expert . subscribers should not view information herei\n",
      "Displaying 1 of 1 matches:\n",
      "dvice . we advise all readers and subscribers to seek advice from a registered \n",
      "Displaying 2 of 2 matches:\n",
      "sletter advises a | | readers and subscribers to seek advice from a registered \n",
      " gister ed in vest ment advisor . subscribers shouid not view information herei\n",
      "Displaying 2 of 2 matches:\n",
      "wsietter advises al | readers and subscribers to seek advice from a registered \n",
      " gister ed in vest ment advisor . subscribers should not view information herei\n",
      "Displaying 1 of 1 matches:\n",
      "ty alert advises al | readers and subscribers to seek advice from a registered \n",
      "Displaying 1 of 1 matches:\n",
      "ty alert advises al | readers and subscribers to seek advice from a registered \n",
      "Displaying 1 of 1 matches:\n",
      "ity aiert advises all readers and subscribers to seek advice from a registered \n",
      "Displaying 2 of 2 matches:\n",
      "wsletter advises al | readers and subscribers to seek advice from a registered \n",
      " gister ed in vest ment advisor . subscribers shouid not view information herei\n",
      "Displaying 2 of 2 matches:\n",
      "ewsletter advises all readers and subscribers to seek advice from a registered \n",
      " gister ed in vest ment advisor . subscribers shouid not view information herei\n",
      "Displaying 2 of 2 matches:\n",
      "subject : subscribers receive first notice on run - awa\n",
      "k on the otcbb to our millions of subscribers for substantial profits immediate\n",
      "Displaying 2 of 2 matches:\n",
      "ewsletter advises all readers and subscribers to seek advice from a registered \n",
      " a registered investment expert . subscribers should not view information herei\n",
      "Displaying 2 of 2 matches:\n",
      " market related service '' attn : subscribers , stockbrokers , analysts investo\n",
      "il report advises all readers and subscribers to seek advice from a registered \n",
      "Displaying 1 of 1 matches:\n",
      "ium market related service attn : subscribers , stockbrokers , analysts investo\n",
      "Displaying 1 of 1 matches:\n",
      " of geology and platinum with our subscribers . lawrence roulstons resource opp\n",
      "Displaying 2 of 2 matches:\n",
      "ewsletter advises all readers and subscribers to seek advice from a registered \n",
      " a registered investment expert . subscribers should not view information herei\n",
      "Displaying 2 of 2 matches:\n",
      "ewsietter advises ail readers and subscribers to seek advice from a registered \n",
      " a registered investment expert . subscribers should not view information herei\n",
      "Displaying 2 of 2 matches:\n",
      "ewsietter advises ail readers and subscribers to seek advice from a registered \n",
      "egistered in - vestment advisor . subscribers shouid not view information herei\n",
      "Displaying 2 of 2 matches:\n",
      "wsietter advises al | readers and subscribers to seek advice from a registered \n",
      " a registered investment expert . subscribers sho ! uld not view information he\n",
      "Displaying 1 of 1 matches:\n",
      "ity alert advises all readers and subscribers to seek advice from a registered \n",
      "Displaying 2 of 2 matches:\n",
      "ewsletter advises ail readers and subscribers to seek advice from a registered \n",
      " a registered investment expert . subscribers should not view information herei\n",
      "Displaying 1 of 1 matches:\n",
      "ity alert advises all readers and subscribers to seek advice from a registered \n",
      "Displaying 2 of 2 matches:\n",
      "sletter advises a | | readers and subscribers to seek advice from a registered \n",
      " a registered investment expert . subscribers shouid not view information herei\n",
      "Displaying 1 of 1 matches:\n",
      " and even quadruple returns . our subscribers need to pay particularly ciose at\n",
      "Displaying 1 of 1 matches:\n",
      " and even quadruple returns . our subscribers need to pay particulariy close at\n",
      "Displaying 2 of 2 matches:\n",
      "ewsletter advises all readers and subscribers to seek advice from a registered \n",
      "a registered investment advisor . subscribers should not view information herei\n",
      "Displaying 1 of 1 matches:\n",
      "ity alert advises all readers and subscribers to seek advice from a registered \n",
      "Displaying 2 of 2 matches:\n",
      "ck report advises ail readers and subscribers to seek advice from a registered \n",
      "a registered investment advisor . subscribers shouid not view information herei\n",
      "Displaying 1 of 1 matches:\n",
      "ity alert advises all readers and subscribers to seek advice from a registered \n",
      "Displaying 1 of 1 matches:\n",
      "designed to provide fight network subscribers with insider fight news ' direct \n",
      "Displaying 2 of 2 matches:\n",
      " year , and have 333 , ooo paying subscribers at the end of its first year of o\n",
      "a is carried out . - five million subscribers ( 1 o % of the domestic universe \n",
      "Displaying 2 of 2 matches:\n",
      "ck report advises all readers and subscribers to seek advice from a registered \n",
      "a registered investment advisor . subscribers should not view information herei\n",
      "Displaying 2 of 2 matches:\n",
      "ewsletter advises all readers and subscribers to seek advice from a registered \n",
      " a registered invstment advisor . subscribers should not view information herei\n"
     ]
    }
   ],
   "source": [
    "print (\"subscribers in HAM:\")\n",
    "concordance(ham_list, \"subscribers \")\n",
    "print(\"\\n---------------------------\")\n",
    "print (\"\\nsubscribers in SPAM:\")\n",
    "concordance(spam_list, \"subscribers\")"
   ]
  },
  {
   "cell_type": "markdown",
   "metadata": {},
   "source": [
    "Let's create a messages as input."
   ]
  },
  {
   "cell_type": "code",
   "execution_count": 13,
   "metadata": {},
   "outputs": [
    {
     "name": "stdout",
     "output_type": "stream",
     "text": [
      "Accuracy on the training set = 0.961082910321489\n",
      "Accuracy on the test set = 1.0\n",
      "Most Informative Features\n",
      "               forwarded = True              ham : spam   =    198.3 : 1.0\n",
      "                    2004 = True             spam : ham    =    143.8 : 1.0\n",
      "                     nom = True              ham : spam   =    126.0 : 1.0\n",
      "            prescription = True             spam : ham    =    122.9 : 1.0\n",
      "                    pain = True             spam : ham    =     98.8 : 1.0\n",
      "                  health = True             spam : ham    =     82.7 : 1.0\n",
      "                     ect = True              ham : spam   =     76.8 : 1.0\n",
      "                    2001 = True              ham : spam   =     75.8 : 1.0\n",
      "                featured = True             spam : ham    =     74.7 : 1.0\n",
      "              nomination = True              ham : spam   =     72.1 : 1.0\n",
      "             medications = True             spam : ham    =     69.9 : 1.0\n",
      "                  differ = True             spam : ham    =     66.7 : 1.0\n",
      "                creative = True             spam : ham    =     65.1 : 1.0\n",
      "             subscribers = True             spam : ham    =     65.1 : 1.0\n",
      "                   risks = True             spam : ham    =     63.4 : 1.0\n",
      "                     pro = True             spam : ham    =     60.2 : 1.0\n",
      "                  shares = True             spam : ham    =     58.6 : 1.0\n",
      "                   cheap = True             spam : ham    =     55.4 : 1.0\n",
      "                       u = True             spam : ham    =     55.4 : 1.0\n",
      "                    2005 = True             spam : ham    =     54.5 : 1.0\n"
     ]
    }
   ],
   "source": [
    "test_spam_list = [\"Participate in our new lottery!\", \n",
    "                  \"Try out this new medicine\"]\n",
    "test_ham_list = [\"See the minutes from the last meeting attached\", \n",
    "                 \"Investors are coming to our office on Monday\"]\n",
    "\n",
    "test_emails = [(email_content, \"spam\") for email_content in test_spam_list]\n",
    "test_emails += [(email_content, \"ham\") for email_content in test_ham_list]\n",
    "\n",
    "new_test_set = [(get_features(email), label) for (email, label) in test_emails]\n",
    "\n",
    "evaluate(train_set, new_test_set, classifier)"
   ]
  },
  {
   "cell_type": "markdown",
   "metadata": {},
   "source": [
    "See how they get classified:"
   ]
  },
  {
   "cell_type": "code",
   "execution_count": 14,
   "metadata": {},
   "outputs": [
    {
     "name": "stdout",
     "output_type": "stream",
     "text": [
      "Participate in our new lottery!\n",
      "spam\n",
      "Try out this new medicine\n",
      "spam\n"
     ]
    }
   ],
   "source": [
    "for email in test_spam_list:\n",
    "    print (email)\n",
    "    print (classifier.classify(get_features(email)))"
   ]
  },
  {
   "cell_type": "code",
   "execution_count": 15,
   "metadata": {},
   "outputs": [
    {
     "name": "stdout",
     "output_type": "stream",
     "text": [
      "See the minutes from the last meeting attached\n",
      "ham\n",
      "Investors are coming to our office on Monday\n",
      "ham\n"
     ]
    }
   ],
   "source": [
    "for email in test_ham_list:\n",
    "    print (email)\n",
    "    print (classifier.classify(get_features(email)))"
   ]
  },
  {
   "cell_type": "markdown",
   "metadata": {},
   "source": [
    "Run in an interactive manner:"
   ]
  },
  {
   "cell_type": "code",
   "execution_count": 17,
   "metadata": {},
   "outputs": [
    {
     "name": "stdout",
     "output_type": "stream",
     "text": [
      "Type in your email here (or press 'Enter'): congrats you make money\n",
      "This email is likely spam\n",
      "\n",
      "Type in your email here (or press 'Enter'): I want to work with you\n",
      "This email is likely ham\n",
      "\n",
      "Type in your email here (or press 'Enter'): \n"
     ]
    }
   ],
   "source": [
    "while True:\n",
    "    email = input(\"Type in your email here (or press 'Enter'): \")\n",
    "    if len(email)==0:\n",
    "        break\n",
    "    else: \n",
    "        prediction = classifier.classify(get_features(email))\n",
    "        print (f\"This email is likely {prediction}\\n\")"
   ]
  },
  {
   "cell_type": "markdown",
   "metadata": {},
   "source": [
    "Thanks for reading 😀\n",
    "\n",
    "Don't forget to follow us on [YouTube](http://youtube.com/tirendazacademy) | [Medium](http://tirendazacademy.medium.com) | [Twitter](http://twitter.com/tirendazacademy) | [GitHub](http://github.com/tirendazacademy) | [Linkedin](https://www.linkedin.com/in/tirendaz-academy) | [Kaggle](https://www.kaggle.com/tirendazacademy) 😎\n"
   ]
  },
  {
   "cell_type": "markdown",
   "metadata": {},
   "source": [
    "## Source\n",
    "- Getting started with NLP"
   ]
  }
 ],
 "metadata": {
  "kernelspec": {
   "display_name": "Python 3 (ipykernel)",
   "language": "python",
   "name": "python3"
  },
  "language_info": {
   "codemirror_mode": {
    "name": "ipython",
    "version": 3
   },
   "file_extension": ".py",
   "mimetype": "text/x-python",
   "name": "python",
   "nbconvert_exporter": "python",
   "pygments_lexer": "ipython3",
   "version": "3.8.13"
  }
 },
 "nbformat": 4,
 "nbformat_minor": 2
}
